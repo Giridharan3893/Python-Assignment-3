{
 "cells": [
  {
   "cell_type": "code",
   "execution_count": 3,
   "id": "f7ee6641",
   "metadata": {},
   "outputs": [
    {
     "name": "stdout",
     "output_type": "stream",
     "text": [
      "1\n"
     ]
    }
   ],
   "source": [
    "##Answer 1:\n",
    "\n",
    "def findremainder(arr, lens, n):\n",
    "    mul = 1\n",
    "    for i in range(lens): \n",
    "        mul = (mul * (arr[i] % n)) % n\n",
    "        return mul % n\n",
    "arr = [ 100, 10, 5, 25, 35, 14 ]\n",
    "lens = len(arr)\n",
    "n = 11\n",
    "print( findremainder(arr, lens, n))"
   ]
  },
  {
   "cell_type": "code",
   "execution_count": 4,
   "id": "fddb8654",
   "metadata": {},
   "outputs": [
    {
     "name": "stdout",
     "output_type": "stream",
     "text": [
      "True\n"
     ]
    }
   ],
   "source": [
    "##Answer 2:\n",
    "\n",
    "def isMonotonic(A):\n",
    "  \n",
    "    return (all(A[i] <= A[i + 1] for i in range(len(A) - 1)) or\n",
    "            all(A[i] >= A[i + 1] for i in range(len(A) - 1)))\n",
    "A = [6, 5, 4, 4]\n",
    "print(isMonotonic(A))"
   ]
  },
  {
   "cell_type": "code",
   "execution_count": 7,
   "id": "e1a28ffe",
   "metadata": {},
   "outputs": [
    {
     "name": "stdout",
     "output_type": "stream",
     "text": [
      "[24, 35, 9, 56, 12]\n"
     ]
    }
   ],
   "source": [
    "##Answer 3:\n",
    "\n",
    "def swapList(newList):\n",
    "    size = len(newList)\n",
    "    temp = newList[0]\n",
    "    newList[0] = newList[size - 1]\n",
    "    newList[size - 1] = temp\n",
    "     \n",
    "    return newList\n",
    "  \n",
    "newList = [12, 35, 9, 56, 24]\n",
    "print(swapList(newList))"
   ]
  },
  {
   "cell_type": "code",
   "execution_count": 11,
   "id": "3279adc0",
   "metadata": {},
   "outputs": [
    {
     "name": "stdout",
     "output_type": "stream",
     "text": [
      "[19, 65, 23, 90]\n"
     ]
    }
   ],
   "source": [
    "##Answer 4:\n",
    "\n",
    "def swapPositions(list, pos1, pos2):\n",
    "     \n",
    "    list[pos1], list[pos2] = list[pos2], list[pos1]\n",
    "    return list\n",
    "List = [23, 65, 19, 90]\n",
    "pos1, pos2  = 1, 3\n",
    "print(swapPositions(List, pos1-1, pos2-1))"
   ]
  },
  {
   "cell_type": "code",
   "execution_count": 12,
   "id": "20aa6505",
   "metadata": {},
   "outputs": [
    {
     "data": {
      "text/plain": [
       "5"
      ]
     },
     "execution_count": 12,
     "metadata": {},
     "output_type": "execute_result"
    }
   ],
   "source": [
    "##Answer 5:\n",
    "\n",
    "List = [1,2,3,4,5]\n",
    "len(List)"
   ]
  },
  {
   "cell_type": "code",
   "execution_count": 15,
   "id": "cf3289c1",
   "metadata": {},
   "outputs": [
    {
     "name": "stdout",
     "output_type": "stream",
     "text": [
      "Element Does Not Exists\n",
      "Element Does Not Exists\n",
      "Element Exists\n",
      "Element Does Not Exists\n",
      "Element Does Not Exists\n"
     ]
    }
   ],
   "source": [
    "##Answer 6:\n",
    "\n",
    "List = [1,2,3,4,5]\n",
    "for i in List:\n",
    "    if(i == 3):\n",
    "        print (\"Element Exists\")\n",
    "    elif (i!=3): \n",
    "        print (\"Element Does Not Exists\")"
   ]
  },
  {
   "cell_type": "code",
   "execution_count": 17,
   "id": "ae8d2443",
   "metadata": {},
   "outputs": [
    {
     "name": "stdout",
     "output_type": "stream",
     "text": [
      "List before clearing: [1, 2, 3, 4, 5]\n",
      "List after clearing: []\n"
     ]
    }
   ],
   "source": [
    "##Answer 7:\n",
    "\n",
    "List = [1,2,3,4,5]\n",
    "print ('List before clearing:', List)\n",
    "List.clear()\n",
    "print ('List after clearing:', List)"
   ]
  },
  {
   "cell_type": "code",
   "execution_count": 18,
   "id": "90701786",
   "metadata": {},
   "outputs": [
    {
     "name": "stdout",
     "output_type": "stream",
     "text": [
      "List before clearing: [1, 2, 3, 4, 5]\n",
      "List after clearing: [5, 4, 3, 2, 1]\n"
     ]
    }
   ],
   "source": [
    "##Answer 8:\n",
    "\n",
    "List = [1,2,3,4,5]\n",
    "print ('List before clearing:', List)\n",
    "List.reverse()\n",
    "print ('List after clearing:', List)"
   ]
  },
  {
   "cell_type": "code",
   "execution_count": 19,
   "id": "3438cdfa",
   "metadata": {},
   "outputs": [
    {
     "name": "stdout",
     "output_type": "stream",
     "text": [
      "15\n"
     ]
    }
   ],
   "source": [
    "##Answer 9:\n",
    "\n",
    "List = [1,2,3,4,5]\n",
    "New_list = sum(List)\n",
    "print(New_list)"
   ]
  },
  {
   "cell_type": "code",
   "execution_count": 21,
   "id": "178040a5",
   "metadata": {},
   "outputs": [
    {
     "name": "stdout",
     "output_type": "stream",
     "text": [
      "6\n",
      "24\n"
     ]
    }
   ],
   "source": [
    "##Answer 10:\n",
    "\n",
    "def multiplyList(myList) :\n",
    "    result = 1\n",
    "    for x in myList:\n",
    "         result = result * x\n",
    "    return result\n",
    "\n",
    "list1 = [1, 2, 3]\n",
    "list2 = [3, 2, 4]\n",
    "print(multiplyList(list1))\n",
    "print(multiplyList(list2))"
   ]
  }
 ],
 "metadata": {
  "kernelspec": {
   "display_name": "Python 3 (ipykernel)",
   "language": "python",
   "name": "python3"
  },
  "language_info": {
   "codemirror_mode": {
    "name": "ipython",
    "version": 3
   },
   "file_extension": ".py",
   "mimetype": "text/x-python",
   "name": "python",
   "nbconvert_exporter": "python",
   "pygments_lexer": "ipython3",
   "version": "3.9.7"
  }
 },
 "nbformat": 4,
 "nbformat_minor": 5
}
